{
 "cells": [
  {
   "cell_type": "code",
   "execution_count": 2,
   "id": "1caa3511",
   "metadata": {},
   "outputs": [],
   "source": [
    "import joblib"
   ]
  },
  {
   "cell_type": "code",
   "execution_count": 9,
   "id": "b5295fca",
   "metadata": {},
   "outputs": [
    {
     "name": "stdout",
     "output_type": "stream",
     "text": [
      "Prediction: Not Spam\n"
     ]
    }
   ],
   "source": [
    "loaded_pipeline = joblib.load('spam_classifier_pipeline.joblib')\n",
    "\n",
    "# Example prediction\n",
    "example_text = [\"Free Free offer\"]\n",
    "prediction = loaded_pipeline.predict(example_text)\n",
    "print(f\"Prediction: {'Spam' if prediction[0] == 1 else 'Not Spam'}\")"
   ]
  },
  {
   "cell_type": "code",
   "execution_count": null,
   "id": "37d4c3aa",
   "metadata": {},
   "outputs": [],
   "source": []
  }
 ],
 "metadata": {
  "kernelspec": {
   "display_name": "Python 3 (ipykernel)",
   "language": "python",
   "name": "python3"
  },
  "language_info": {
   "codemirror_mode": {
    "name": "ipython",
    "version": 3
   },
   "file_extension": ".py",
   "mimetype": "text/x-python",
   "name": "python",
   "nbconvert_exporter": "python",
   "pygments_lexer": "ipython3",
   "version": "3.11.7"
  }
 },
 "nbformat": 4,
 "nbformat_minor": 5
}
